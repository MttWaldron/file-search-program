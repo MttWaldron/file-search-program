{
  "cells": [
    {
      "cell_type": "code",
      "execution_count": 8,
      "id": "13670e23-3537-409e-b0da-581ed1cecc15",
      "metadata": {},
      "outputs": [
        {
          "name": "stdout",
          "output_type": "stream",
          "text": [
            "   Index      Customer Id First Name Last Name  \\\n",
            "0      1  DD37Cf93aecA6Dc     Sheryl    Baxter   \n",
            "1      2  1Ef7b82A4CAAD10    Preston    Lozano   \n",
            "2      3  6F94879bDAfE5a6        Roy     Berry   \n",
            "3      4  5Cef8BFA16c5e3c      Linda     Olsen   \n",
            "4      5  053d585Ab6b3159     Joanna    Bender   \n",
            "\n",
            "                           Company               City  \\\n",
            "0                  Rasmussen Group       East Leonard   \n",
            "1                      Vega-Gentry  East Jimmychester   \n",
            "2                    Murillo-Perry      Isabelborough   \n",
            "3  Dominguez, Mcmillan and Donovan         Bensonview   \n",
            "4         Martin, Lang and Andrade     West Priscilla   \n",
            "\n",
            "                      Country                 Phone 1                Phone 2  \\\n",
            "0                       Chile            229.077.5154       397.884.0519x718   \n",
            "1                    Djibouti              5153435776       686-620-1820x944   \n",
            "2         Antigua and Barbuda         +1-539-402-0259    (496)978-3969x58947   \n",
            "3          Dominican Republic  001-808-617-6467x12895        +1-813-324-8756   \n",
            "4  Slovakia (Slovak Republic)  001-234-203-0635x76146  001-199-446-3860x3486   \n",
            "\n",
            "                         Email Subscription Date                      Website  \n",
            "0     zunigavanessa@smith.info        2020-08-24   http://www.stephenson.com/  \n",
            "1              vmata@colon.com        2021-04-23        http://www.hobbs.com/  \n",
            "2          beckycarr@hogan.com        2020-03-25     http://www.lawrence.com/  \n",
            "3  stanleyblackwell@benson.org        2020-06-02   http://www.good-lyons.com/  \n",
            "4      colinalvarado@miles.net        2021-04-17  https://goodwin-ingram.com/  \n"
          ]
        }
      ],
      "source": [
        "import pandas as pd\n",
        "\n",
        "# Path to the file\n",
        "file_path = r\"C:\\Users\\mttwa\\OneDrive\\Documents\\customers-100.csv\"\n",
        "\n",
        "# Read the CSV file into a DataFrame\n",
        "df = pd.read_csv(file_path)\n",
        "\n",
        "# Display the first few rows of the DataFrame\n",
        "print(df.head())\n"
      ]
    },
    {
      "cell_type": "code",
      "execution_count": 11,
      "id": "181a0c8e-3409-461f-b83e-690915fdc756",
      "metadata": {},
      "outputs": [
        {
          "ename": "SyntaxError",
          "evalue": "(unicode error) 'unicodeescape' codec can't decode bytes in position 2-3: truncated \\UXXXXXXXX escape (3137781456.py, line 7)",
          "output_type": "error",
          "traceback": [
            "\u001b[1;36m  Cell \u001b[1;32mIn[11], line 7\u001b[1;36m\u001b[0m\n\u001b[1;33m    df = pd.read_csv(\"C:\\Users\\mttwa\\OneDrive\\Documents\\customers-100.csv\")\u001b[0m\n\u001b[1;37m                     ^\u001b[0m\n\u001b[1;31mSyntaxError\u001b[0m\u001b[1;31m:\u001b[0m (unicode error) 'unicodeescape' codec can't decode bytes in position 2-3: truncated \\UXXXXXXXX escape\n"
          ]
        }
      ],
      "source": [
        "import pandas as pd\n",
        "\n",
        "# Path to your CSV file\n",
        "file_path = \"path/to/your/customers-100.csv\"\n",
        "\n",
        "# Read the CSV file into a DataFrame\n",
        "df = pd.read_csv(\"C:\\Users\\mttwa\\OneDrive\\Documents\\customers-100.csv\")\n",
        "\n",
        "# Filter the DataFrame for customers from Canada\n",
        "canada_customers = df[df['Country'] == 'Canada']\n",
        "\n",
        "# Display the filtered DataFrame\n",
        "print(canada_customers)\n"
      ]
    },
    {
      "cell_type": "code",
      "execution_count": 12,
      "id": "41ffaee7-4688-4f9c-8ae6-05fc8266448e",
      "metadata": {},
      "outputs":
